{
  "nbformat": 4,
  "nbformat_minor": 0,
  "metadata": {
    "colab": {
      "provenance": [],
      "authorship_tag": "ABX9TyPT1bncFx5aPVxizERYuUzd",
      "include_colab_link": true
    },
    "kernelspec": {
      "name": "python3",
      "display_name": "Python 3"
    },
    "language_info": {
      "name": "python"
    },
    "accelerator": "GPU",
    "gpuClass": "standard"
  },
  "cells": [
    {
      "cell_type": "markdown",
      "metadata": {
        "id": "view-in-github",
        "colab_type": "text"
      },
      "source": [
        "<a href=\"https://colab.research.google.com/github/shecheeyee/PyTorch_learning/blob/main/01_pytorch_workflow.ipynb\" target=\"_parent\"><img src=\"https://colab.research.google.com/assets/colab-badge.svg\" alt=\"Open In Colab\"/></a>"
      ]
    },
    {
      "cell_type": "markdown",
      "source": [
        "# PyTorch Workflow\n",
        "\n",
        "\n",
        "\n",
        "\n",
        "PyTorch end-to-end workflow:"
      ],
      "metadata": {
        "id": "gEHGOPJmVByp"
      }
    },
    {
      "cell_type": "markdown",
      "source": [
        "1. data (prepare and load)\n",
        "2. build model\n",
        "3. fitting model to data (training)\n",
        "4. making predictions and evaluating model\n",
        "5. saving and loading a model\n",
        "6. all together"
      ],
      "metadata": {
        "id": "Z7mhDnJchQ65"
      }
    },
    {
      "cell_type": "code",
      "source": [
        "import torch\n",
        "from torch import nn #all neural network stuff\n",
        "import matplotlib.pyplot as plt\n",
        "\n",
        "# check pytorch ver\n",
        "torch.__version__"
      ],
      "metadata": {
        "colab": {
          "base_uri": "https://localhost:8080/",
          "height": 35
        },
        "id": "PbQQkFsh4MLV",
        "outputId": "8bedbb70-da7d-4c9e-e4b1-6945df4bfb43"
      },
      "execution_count": null,
      "outputs": [
        {
          "output_type": "execute_result",
          "data": {
            "text/plain": [
              "'1.13.1+cu116'"
            ],
            "application/vnd.google.colaboratory.intrinsic+json": {
              "type": "string"
            }
          },
          "metadata": {},
          "execution_count": 1
        }
      ]
    },
    {
      "cell_type": "markdown",
      "source": [
        "## 1. Data (prep and loading)\n",
        "\n",
        "* Excel spreadsheet\n",
        "* Images\n",
        "* Videos\n",
        "* Audio\n",
        "* DNA\n",
        "* Text\n",
        "\n",
        "Machine Learning consists of:\n",
        "1. Get data into a numerical representation\n",
        "2. Build a model to learn patterns in that numerical representation\n",
        "\n",
        "Using a LR to make a straight line with *known* **param** "
      ],
      "metadata": {
        "id": "afQM1Ll86E_v"
      }
    },
    {
      "cell_type": "code",
      "source": [
        "# create *known* param\n",
        "weight = 0.7\n",
        "bias = 0.3\n",
        "\n",
        "# data\n",
        "start = 0\n",
        "end = 1\n",
        "step = 0.02\n",
        "X = torch.arange(start, end, step).unsqueeze(dim=1)\n",
        "y = weight * X + bias\n",
        "X[:10], y[:10]"
      ],
      "metadata": {
        "colab": {
          "base_uri": "https://localhost:8080/"
        },
        "id": "AIeqmZsw6Ntm",
        "outputId": "fed31c37-dcda-4d73-a3c4-4b13704dbe77"
      },
      "execution_count": null,
      "outputs": [
        {
          "output_type": "execute_result",
          "data": {
            "text/plain": [
              "(tensor([[0.0000],\n",
              "         [0.0200],\n",
              "         [0.0400],\n",
              "         [0.0600],\n",
              "         [0.0800],\n",
              "         [0.1000],\n",
              "         [0.1200],\n",
              "         [0.1400],\n",
              "         [0.1600],\n",
              "         [0.1800]]), tensor([[0.3000],\n",
              "         [0.3140],\n",
              "         [0.3280],\n",
              "         [0.3420],\n",
              "         [0.3560],\n",
              "         [0.3700],\n",
              "         [0.3840],\n",
              "         [0.3980],\n",
              "         [0.4120],\n",
              "         [0.4260]]))"
            ]
          },
          "metadata": {},
          "execution_count": 2
        }
      ]
    },
    {
      "cell_type": "code",
      "source": [
        "len(X), len(y)"
      ],
      "metadata": {
        "colab": {
          "base_uri": "https://localhost:8080/"
        },
        "id": "fnpqat5f7Yag",
        "outputId": "50e88e31-a1d2-40b2-9135-aae9cb98e594"
      },
      "execution_count": null,
      "outputs": [
        {
          "output_type": "execute_result",
          "data": {
            "text/plain": [
              "(50, 50)"
            ]
          },
          "metadata": {},
          "execution_count": 3
        }
      ]
    },
    {
      "cell_type": "markdown",
      "source": [
        "### train-test set"
      ],
      "metadata": {
        "id": "J0XUUOMK7bXA"
      }
    },
    {
      "cell_type": "code",
      "source": [
        "# creating a train-test split\n",
        "train_split = int(0.8 * len(X))\n",
        "X_train, y_train = X[:train_split], y[:train_split]\n",
        "X_test, y_test = X[train_split:], y[train_split:]\n",
        "\n",
        "len(X_train), len(y_train), len(X_test), len(y_test)"
      ],
      "metadata": {
        "colab": {
          "base_uri": "https://localhost:8080/"
        },
        "id": "sE9xHfX571nI",
        "outputId": "d0400ab2-b017-447c-e335-56119c9fc7d1"
      },
      "execution_count": null,
      "outputs": [
        {
          "output_type": "execute_result",
          "data": {
            "text/plain": [
              "(40, 40, 10, 10)"
            ]
          },
          "metadata": {},
          "execution_count": 4
        }
      ]
    },
    {
      "cell_type": "markdown",
      "source": [
        "##Visualize data"
      ],
      "metadata": {
        "id": "7vZ39EHe8aQl"
      }
    },
    {
      "cell_type": "code",
      "source": [
        "def plot_predictions(train_data=X_train,\n",
        "                     train_labels=y_train,\n",
        "                     test_data=X_test,\n",
        "                     test_labels=y_test,\n",
        "                     predictions=None):\n",
        "\n",
        "    \"\"\"\n",
        "    Plots training data, test data and compares predictions\n",
        "    \"\"\"\n",
        "\n",
        "    plt.figure(figsize=(10,7))\n",
        "\n",
        "    #plot train data\n",
        "    plt.scatter(train_data, train_labels, c=\"b\", s=4, label=\"Training data\")\n",
        "\n",
        "    #plot test data\n",
        "    plt.scatter(test_data, test_labels, c=\"g\", s=4, label=\"Training data\")\n",
        "\n",
        "    if predictions is not None:\n",
        "      plt.scatter(test_data, predictions, c=\"r\", s=4, label=\"Predictions\")\n",
        "\n",
        "    plt.legend(prop={\"size\":14})\n"
      ],
      "metadata": {
        "id": "qTFrCLp28tLe"
      },
      "execution_count": null,
      "outputs": []
    },
    {
      "cell_type": "code",
      "source": [
        "plot_predictions()"
      ],
      "metadata": {
        "colab": {
          "base_uri": "https://localhost:8080/",
          "height": 428
        },
        "id": "Sy_OzMRs9ldG",
        "outputId": "a53ba5b8-add2-44ba-db44-f206980dccdd"
      },
      "execution_count": null,
      "outputs": [
        {
          "output_type": "display_data",
          "data": {
            "text/plain": [
              "<Figure size 720x504 with 1 Axes>"
            ],
            "image/png": "[encoded data removed]"
          },
          "metadata": {
            "needs_background": "light"
          }
        }
      ]
    },
    {
      "cell_type": "markdown",
      "source": [
        "## 2. Build model\n",
        "\n",
        "Building a PyTorch model\n",
        "\n",
        "\n",
        "What the model does:\n",
        "* Start with random values of weight and bias\n",
        "* look at the trng data and adjust the random values to get closer to the ideal values \n",
        "\n",
        "2 main algo to get closer to the ideal values:\n",
        "* Gradient descent (attempting to find the minima of the loss function, hence requires_grad)\n",
        "* Backpropagation (aims to minimize the cost function by adjusting network’s weights and biases. The level of adjustment is determined by the gradients of the cost function with respect to those parameters)\n",
        "\n",
        "https://datascience.stackexchange.com/questions/44703/how-does-gradient-descent-and-backpropagation-work-together#:~:text=Back%2Dpropagation%20is%20the%20process,down%20through%20the%20loss%20function."
      ],
      "metadata": {
        "id": "4vQBeYu9-Fqx"
      }
    },
    {
      "cell_type": "code",
      "source": [
        "#LR model using PyTorch\n",
        "class LinearRegressionModel(nn.Module): #most things in PyTorch inherits from nn.Module    \n",
        "  def __init__(self):\n",
        "    super().__init__()\n",
        "    self.weights = nn.Parameter(torch.randn(1, #start w random weight, try to adjust to ideal value\n",
        "                                            requires_grad=True, #updated by gradient descent \n",
        "                                            dtype=torch.float))\n",
        "    self.bias = nn.Parameter(torch.randn(1, #start w random bias, try to adjust to ideal bias\n",
        "                                          requires_grad=True,\n",
        "                                          dtype=torch.float))\n",
        "    \n",
        "  def forward(self, x: torch.Tensor) -> torch.Tensor: #every sub-class of nn.Module requires an override of forward method\n",
        "      return self.weights * x + self.bias #LR formula\n",
        "      "
      ],
      "metadata": {
        "id": "5IN9lJ8xUYNK"
      },
      "execution_count": null,
      "outputs": []
    },
    {
      "cell_type": "markdown",
      "source": [
        "### PyTorch model building essentials\n",
        " \n",
        "* torch.nn - contains all the buildings for computational graphs (nn can be considered computational graph)\n",
        "* torch.nn.Parameter - what params should our model try and learn, often a PyTorch layer  from torch.nn will set this for us\n",
        "* torhc.nn.Module - parent class for all nn modeuls, forward() method should be overridden\n",
        "* torch.optim - this where the optimizers in PyTorch live, they will help with gradient descent\n",
        "* def forward() - all nn.Module subclasses require you to overwrite forward(), this method defines what happens in the forward computation"
      ],
      "metadata": {
        "id": "GGa9nI8l-mR_"
      }
    },
    {
      "cell_type": "markdown",
      "source": [
        "### checking contents of PyTorch model\n",
        "\n",
        "check model parameters using `.parameters()`"
      ],
      "metadata": {
        "id": "fJnW9w4P___v"
      }
    },
    {
      "cell_type": "code",
      "source": [
        "#create seed\n",
        "torch.manual_seed(42)\n",
        "\n",
        "# instance of LRmodel class\n",
        "model_0 = LinearRegressionModel()\n",
        "\n",
        "#check param\n",
        "print(list(model_0.parameters()))\n",
        "print(model_0.state_dict())"
      ],
      "metadata": {
        "colab": {
          "base_uri": "https://localhost:8080/"
        },
        "id": "ZCSHjVPIA_3j",
        "outputId": "6e8ed18f-2e43-46d4-c4dd-a1c122f89626"
      },
      "execution_count": null,
      "outputs": [
        {
          "output_type": "stream",
          "name": "stdout",
          "text": [
            "[Parameter containing:\n",
            "tensor([0.3367], requires_grad=True), Parameter containing:\n",
            "tensor([0.1288], requires_grad=True)]\n",
            "OrderedDict([('weights', tensor([0.3367])), ('bias', tensor([0.1288]))])\n"
          ]
        }
      ]
    },
    {
      "cell_type": "markdown",
      "source": [
        "### making predictions  : `torch.inference_mode()`\n",
        "\n",
        "predict y_test based on X_test\n",
        "\n",
        "`forward()` will be used to predict when passing in data"
      ],
      "metadata": {
        "id": "iFgHRsaXBKL7"
      }
    },
    {
      "cell_type": "code",
      "source": [
        "# Make predicitions with model\n",
        "with torch.inference_mode(): #context manager, turns off gradient tracking.\n",
        "                            #when doing inference, we are not doing training, \n",
        "                            #so we do not have to keep track of the gradient.\n",
        "                            #hence PyTorch is not keeping track of useless data\n",
        "                            #code and inference/predictions runs faster\n",
        "  y_preds = model_0(X_test) #passing X_test data through the modell\n",
        "\n",
        "y_preds\n",
        "\n",
        "#torch.no_grad() disregards the \"useless\" data of gradient too, but inference_mode()\n",
        "#is preferred (got other features)\n"
      ],
      "metadata": {
        "colab": {
          "base_uri": "https://localhost:8080/"
        },
        "id": "zpRTt3A2DJg_",
        "outputId": "420cecff-69ca-4714-9d7c-ed4bd8b9eb8b"
      },
      "execution_count": null,
      "outputs": [
        {
          "output_type": "execute_result",
          "data": {
            "text/plain": [
              "tensor([[0.3982],\n",
              "        [0.4049],\n",
              "        [0.4116],\n",
              "        [0.4184],\n",
              "        [0.4251],\n",
              "        [0.4318],\n",
              "        [0.4386],\n",
              "        [0.4453],\n",
              "        [0.4520],\n",
              "        [0.4588]])"
            ]
          },
          "metadata": {},
          "execution_count": 9
        }
      ]
    },
    {
      "cell_type": "code",
      "source": [
        "plot_predictions(predictions=y_preds)"
      ],
      "metadata": {
        "colab": {
          "base_uri": "https://localhost:8080/",
          "height": 428
        },
        "id": "gLQP0OT4BtHA",
        "outputId": "27f179ed-d285-4ac3-ba55-025f2531b54c"
      },
      "execution_count": null,
      "outputs": [
        {
          "output_type": "display_data",
          "data": {
            "text/plain": [
              "<Figure size 720x504 with 1 Axes>"
            ],
            "image/png": "[encoded data removed]"
          },
          "metadata": {
            "needs_background": "light"
          }
        }
      ]
    },
    {
      "cell_type": "markdown",
      "source": [
        "##3. Train model\n",
        "\n",
        "The idea of training is for a model to move from some *unknown/random* params to a more accurate one.\n",
        "\n",
        "From a poor representation to a better one\n",
        "\n",
        "How to measure how poor the predictions are:\n",
        "\n",
        "* Loss function\n",
        "* Cost function\n",
        "* Criterion\n",
        "\n",
        "* **Loss function:** A function to measure how wrong you are, the lower, the better\n",
        "* **Optimizer:** Takes into account the loss of a model and ajests the model's pararm (eg: weight and loss)\n",
        "  *   params - the model parameters to optimize, for eg: params=model_0.parameters()\n",
        "  *   lr(learning rate)\n",
        "\n",
        "\n",
        "* Training loop\n",
        "* Testing loop"
      ],
      "metadata": {
        "id": "a5YZ4-M3tLvM"
      }
    },
    {
      "cell_type": "code",
      "source": [
        "list(model_0.parameters())"
      ],
      "metadata": {
        "colab": {
          "base_uri": "https://localhost:8080/"
        },
        "id": "_Z0A2IAD1jvk",
        "outputId": "538561de-994a-4bf6-db5c-37b45d35fc72"
      },
      "execution_count": null,
      "outputs": [
        {
          "output_type": "execute_result",
          "data": {
            "text/plain": [
              "[Parameter containing:\n",
              " tensor([0.3367], requires_grad=True), Parameter containing:\n",
              " tensor([0.1288], requires_grad=True)]"
            ]
          },
          "metadata": {},
          "execution_count": 11
        }
      ]
    },
    {
      "cell_type": "code",
      "source": [
        "#to see the model's parameter\n",
        "model_0.state_dict()"
      ],
      "metadata": {
        "colab": {
          "base_uri": "https://localhost:8080/"
        },
        "id": "zDdLfRdk2SNg",
        "outputId": "02b600e6-d53d-43e6-a874-9999ca7a1f15"
      },
      "execution_count": null,
      "outputs": [
        {
          "output_type": "execute_result",
          "data": {
            "text/plain": [
              "OrderedDict([('weights', tensor([0.3367])), ('bias', tensor([0.1288]))])"
            ]
          },
          "metadata": {},
          "execution_count": 12
        }
      ]
    },
    {
      "cell_type": "code",
      "source": [
        "# set up loss function\n",
        "loss_fn = nn.L1Loss()\n",
        "loss_fn\n",
        "# set up optimizer (stochastic gradient descent)\n",
        "optimizer = torch.optim.SGD(params=model_0.parameters(),\n",
        "                            lr=0.02) #learning rate = possibly the most importatnt hyperparam)\n"
      ],
      "metadata": {
        "id": "U7tez3bc2VdA"
      },
      "execution_count": null,
      "outputs": []
    },
    {
      "cell_type": "markdown",
      "source": [
        "Different problems might require a different loss functions and optimizer, for example for simple regression problems like our case, L1Loss and SGD will suffice.\n",
        "For problems like telling apart cat and dog a loss functino of BCELoss() might be more suitable (Binary cross entroype loss)"
      ],
      "metadata": {
        "id": "yVS4IpKy3Y9D"
      }
    },
    {
      "cell_type": "markdown",
      "source": [
        "###Building a training loop & testing loop in PyTorch\n",
        "\n",
        "Things needed in training loop:\n",
        "0. Loop through data\n",
        "1. Forward pass/propagation (involved data moving thorugh out model's `forward()` function)\n",
        "2. Calculate the loss (compare forward pass predictions to ground truth labels)\n",
        "3. Optimizer zero gradient\n",
        "4. Loss backward (back propagation) (calculations backwards, move backwards thruogh the network to calculate the gradients of each of the parameters of our model with respect to the loss ( this is done using chain rule)  )\n",
        "5. Optimizer step - using the optimizer to adjust our model's parameters to try and improve the loss (gradient descent)\n",
        "\n"
      ],
      "metadata": {
        "id": "gXJx90115QY6"
      }
    },
    {
      "cell_type": "code",
      "source": [
        "# epoch is one loop through the data\n",
        "epochs = 100\n",
        "\n",
        "epoch_count = []\n",
        "loss_values = []\n",
        "test_loss_values = []\n",
        "\n",
        "### Training\n",
        "#step 0, loop through the data\n",
        "for epochs in range(epochs):\n",
        "  #set the model to training mode\n",
        "  model_0.train() #train mode in PyTroch sets all params that requires gradient to require gradient\n",
        "\n",
        "  #1. forward pass\n",
        "  y_pred = model_0(X_train) # learning patterns to predict\n",
        "\n",
        "  #2. Loss function\n",
        "  loss = loss_fn(y_pred, y_train) #difference between prediction and ideal \n",
        "  #3. Optimizer zero grad\n",
        "  optimizer.zero_grad()\n",
        "\n",
        "  #4. Back propagation on the loss wrt the params of the model\n",
        "  loss.backward()\n",
        "\n",
        "  #5. Step the optimizer (perform gradient descent)\n",
        "  optimizer.step() #by default how the optimizer changes will accumulate through the loop. \n",
        "                  #so we have to zero them in step 3 (start from afresh).\n",
        "\n",
        "  # testing\n",
        "  model_0.eval() #turns off gradient tracking/ things not needed for eval/testing\n",
        "  with torch.inference_mode():\n",
        "    #1. forward pass\n",
        "    test_pred = model_0(X_test)\n",
        "\n",
        "    #2. calc the loss\n",
        "    test_loss = loss_fn(test_pred, y_test)\n",
        "\n",
        "  if epochs % 10 == 0:\n",
        "    epoch_count.append(epochs)\n",
        "    loss_values.append(loss)\n",
        "    test_loss_values.append(test_loss)\n",
        "    print(f\"Epoch: {epochs} | Loss: {loss} | Test loss: {test_loss}\")\n",
        "\n",
        "print(f\"loss is {loss}\")\n"
      ],
      "metadata": {
        "colab": {
          "base_uri": "https://localhost:8080/"
        },
        "id": "nRi1aVg06SSB",
        "outputId": "876ae923-9ed7-4ec1-b4a3-b35e3b018034"
      },
      "execution_count": null,
      "outputs": [
        {
          "output_type": "stream",
          "name": "stdout",
          "text": [
            "Epoch: 0 | Loss: 0.31288138031959534 | Test loss: 0.4675941467285156\n",
            "Epoch: 10 | Loss: 0.08831816911697388 | Test loss: 0.20536987483501434\n",
            "Epoch: 20 | Loss: 0.04547790437936783 | Test loss: 0.11100725829601288\n",
            "Epoch: 30 | Loss: 0.03829658776521683 | Test loss: 0.08761118352413177\n",
            "Epoch: 40 | Loss: 0.031427789479494095 | Test loss: 0.072440005838871\n",
            "Epoch: 50 | Loss: 0.02456694096326828 | Test loss: 0.055895041674375534\n",
            "Epoch: 60 | Loss: 0.017689326778054237 | Test loss: 0.03935007005929947\n",
            "Epoch: 70 | Loss: 0.010823884978890419 | Test loss: 0.024178892374038696\n",
            "Epoch: 80 | Loss: 0.003965773619711399 | Test loss: 0.006277936510741711\n",
            "Epoch: 90 | Loss: 0.01409052312374115 | Test loss: 0.005287045147269964\n",
            "loss is 0.008951482363045216\n"
          ]
        }
      ]
    },
    {
      "cell_type": "code",
      "source": [
        "loss_values, test_loss_values"
      ],
      "metadata": {
        "colab": {
          "base_uri": "https://localhost:8080/"
        },
        "id": "z9Lkb3Wn_fMb",
        "outputId": "21ed8297-7fd8-4e61-c0ff-55226534ce29"
      },
      "execution_count": null,
      "outputs": [
        {
          "output_type": "execute_result",
          "data": {
            "text/plain": [
              "([tensor(0.3129, grad_fn=<MeanBackward0>),\n",
              "  tensor(0.0883, grad_fn=<MeanBackward0>),\n",
              "  tensor(0.0455, grad_fn=<MeanBackward0>),\n",
              "  tensor(0.0383, grad_fn=<MeanBackward0>),\n",
              "  tensor(0.0314, grad_fn=<MeanBackward0>),\n",
              "  tensor(0.0246, grad_fn=<MeanBackward0>),\n",
              "  tensor(0.0177, grad_fn=<MeanBackward0>),\n",
              "  tensor(0.0108, grad_fn=<MeanBackward0>),\n",
              "  tensor(0.0040, grad_fn=<MeanBackward0>),\n",
              "  tensor(0.0141, grad_fn=<MeanBackward0>)],\n",
              " [tensor(0.4676),\n",
              "  tensor(0.2054),\n",
              "  tensor(0.1110),\n",
              "  tensor(0.0876),\n",
              "  tensor(0.0724),\n",
              "  tensor(0.0559),\n",
              "  tensor(0.0394),\n",
              "  tensor(0.0242),\n",
              "  tensor(0.0063),\n",
              "  tensor(0.0053)])"
            ]
          },
          "metadata": {},
          "execution_count": 15
        }
      ]
    },
    {
      "cell_type": "code",
      "source": [
        "#plot loss curves\n",
        "import numpy as np\n",
        "plt.plot(epoch_count, np.array(torch.tensor(loss_values).numpy()), label=\"Train loss\")\n",
        "plt.plot(epoch_count, np.array(torch.tensor(test_loss_values).numpy()), label=\"Test loss\")\n",
        "plt.title(\"Training and test loss curves\")\n",
        "plt.ylabel(\"Loss\")\n",
        "plt.xlabel(\"Epochs\")\n",
        "plt.legend()"
      ],
      "metadata": {
        "colab": {
          "base_uri": "https://localhost:8080/",
          "height": 312
        },
        "id": "8Jugci77-lrS",
        "outputId": "988dc389-2ff6-4cad-afad-eb5d32538c5b"
      },
      "execution_count": null,
      "outputs": [
        {
          "output_type": "execute_result",
          "data": {
            "text/plain": [
              "<matplotlib.legend.Legend at 0x7f5d48601eb0>"
            ]
          },
          "metadata": {},
          "execution_count": 16
        },
        {
          "output_type": "display_data",
          "data": {
            "text/plain": [
              "<Figure size 432x288 with 1 Axes>"
            ],
            "image/png": "[encoded data removed]"
          },
          "metadata": {
            "needs_background": "light"
          }
        }
      ]
    },
    {
      "cell_type": "code",
      "source": [
        "model_0.state_dict()"
      ],
      "metadata": {
        "colab": {
          "base_uri": "https://localhost:8080/"
        },
        "id": "_kQuP6388uha",
        "outputId": "1a59ea3e-38ea-4e12-a090-279371f0bc77"
      },
      "execution_count": null,
      "outputs": [
        {
          "output_type": "execute_result",
          "data": {
            "text/plain": [
              "OrderedDict([('weights', tensor([0.6849])), ('bias', tensor([0.2918]))])"
            ]
          },
          "metadata": {},
          "execution_count": 17
        }
      ]
    },
    {
      "cell_type": "code",
      "source": [
        "with torch.inference_mode(): #turns off gradient tracking\n",
        "  y_preds_new = model_0(X_test)\n",
        "\n",
        "y_preds_new"
      ],
      "metadata": {
        "colab": {
          "base_uri": "https://localhost:8080/"
        },
        "id": "MshlmEDa83bY",
        "outputId": "3ccfc414-42fd-4ed2-e247-6814ff533069"
      },
      "execution_count": null,
      "outputs": [
        {
          "output_type": "execute_result",
          "data": {
            "text/plain": [
              "tensor([[0.8397],\n",
              "        [0.8534],\n",
              "        [0.8671],\n",
              "        [0.8808],\n",
              "        [0.8945],\n",
              "        [0.9082],\n",
              "        [0.9219],\n",
              "        [0.9356],\n",
              "        [0.9493],\n",
              "        [0.9630]])"
            ]
          },
          "metadata": {},
          "execution_count": 18
        }
      ]
    },
    {
      "cell_type": "code",
      "source": [
        "plot_predictions(predictions=y_preds_new)"
      ],
      "metadata": {
        "colab": {
          "base_uri": "https://localhost:8080/",
          "height": 428
        },
        "id": "1tY62Qic6RRt",
        "outputId": "caf13129-64b9-4ea2-ed70-862482c6ab4c"
      },
      "execution_count": null,
      "outputs": [
        {
          "output_type": "display_data",
          "data": {
            "text/plain": [
              "<Figure size 720x504 with 1 Axes>"
            ],
            "image/png": "[encoded data removed]"
          },
          "metadata": {
            "needs_background": "light"
          }
        }
      ]
    },
    {
      "cell_type": "markdown",
      "source": [
        "##Saving a model in PyTorch\n",
        "\n",
        "3 main ways to save and load a model:\n",
        "\n",
        "1. `torch.save()` - save a model (PyTorch object) in pickle format\n",
        "2. `torch.load()` - load a saved PyTorch object\n",
        "3. `torch.nn.Module.load_state_dict()` - load a model's saved state dict"
      ],
      "metadata": {
        "id": "ovhg2Jsk6Tqt"
      }
    },
    {
      "cell_type": "code",
      "source": [
        "# Saving PyTorch model\n",
        "from pathlib import Path\n",
        "\n",
        "# 1. Model dir\n",
        "MODEL_PATH = Path(\"models\")\n",
        "MODEL_PATH.mkdir(parents=True, exist_ok=True)\n",
        "\n",
        "# 2. Model save path\n",
        "MODEL_NAME = \"01_pytorch_workflow_model_0.pth\"\n",
        "MODEL_SAVE_PATH = MODEL_PATH / MODEL_NAME\n",
        "\n",
        "# 3. SAve a model's state dict\n",
        "print(f\"Saving model to: {MODEL_SAVE_PATH}\")\n",
        "torch.save(obj=model_0.state_dict(),\n",
        "           f=MODEL_SAVE_PATH)\n"
      ],
      "metadata": {
        "colab": {
          "base_uri": "https://localhost:8080/"
        },
        "id": "N7feHn8Gbljr",
        "outputId": "55402227-1560-4975-af24-a1bb1946f71a"
      },
      "execution_count": null,
      "outputs": [
        {
          "output_type": "stream",
          "name": "stdout",
          "text": [
            "Saving model to: models/01_pytorch_workflow_model_0.pth\n"
          ]
        }
      ]
    },
    {
      "cell_type": "code",
      "source": [
        "!ls -1 models"
      ],
      "metadata": {
        "colab": {
          "base_uri": "https://localhost:8080/"
        },
        "id": "1hu_IrcfdlnJ",
        "outputId": "c3677a16-cb10-4f68-ce50-ebe66645d230"
      },
      "execution_count": null,
      "outputs": [
        {
          "output_type": "stream",
          "name": "stdout",
          "text": [
            "01_pytorch_workflow_model_0.pth\n"
          ]
        }
      ]
    },
    {
      "cell_type": "markdown",
      "source": [
        "## Loading a PyTorch model\n",
        "\n",
        "Having saved the model's `state_dict()`, we can create a new instance of our model and load the saved `state_dict()` in"
      ],
      "metadata": {
        "id": "_vF_HM76eHtQ"
      }
    },
    {
      "cell_type": "code",
      "source": [
        "model_0.state_dict()"
      ],
      "metadata": {
        "colab": {
          "base_uri": "https://localhost:8080/"
        },
        "id": "elTqAzlmetYC",
        "outputId": "5b1603f6-0047-42e6-8343-7d56569a1da2"
      },
      "execution_count": null,
      "outputs": [
        {
          "output_type": "execute_result",
          "data": {
            "text/plain": [
              "OrderedDict([('weights', tensor([0.6849])), ('bias', tensor([0.2918]))])"
            ]
          },
          "metadata": {},
          "execution_count": 22
        }
      ]
    },
    {
      "cell_type": "code",
      "source": [
        "# instatiate a new instance of model class\n",
        "loaded_model_0 = LinearRegressionModel()\n",
        "\n",
        "# load the saved state_dict in, else it will be random\n",
        "loaded_model_0.load_state_dict(torch.load(f=MODEL_SAVE_PATH))"
      ],
      "metadata": {
        "colab": {
          "base_uri": "https://localhost:8080/"
        },
        "id": "qb33npBAe08H",
        "outputId": "caa6d5bf-9d3f-4ab0-c2cf-9eb150ee3d05"
      },
      "execution_count": null,
      "outputs": [
        {
          "output_type": "execute_result",
          "data": {
            "text/plain": [
              "<All keys matched successfully>"
            ]
          },
          "metadata": {},
          "execution_count": 23
        }
      ]
    },
    {
      "cell_type": "code",
      "source": [
        "loaded_model_0.state_dict()"
      ],
      "metadata": {
        "colab": {
          "base_uri": "https://localhost:8080/"
        },
        "id": "BgqObGkDgTNN",
        "outputId": "9aca27a3-e89a-41a8-ede1-0d4ab066dc9b"
      },
      "execution_count": null,
      "outputs": [
        {
          "output_type": "execute_result",
          "data": {
            "text/plain": [
              "OrderedDict([('weights', tensor([0.6849])), ('bias', tensor([0.2918]))])"
            ]
          },
          "metadata": {},
          "execution_count": 24
        }
      ]
    },
    {
      "cell_type": "code",
      "source": [
        "# make some predictions\n",
        "loaded_model_0.eval()\n",
        "with torch.inference_mode():\n",
        "  loaded_model_preds = loaded_model_0(X_test)\n",
        "\n",
        "loaded_model_preds"
      ],
      "metadata": {
        "colab": {
          "base_uri": "https://localhost:8080/"
        },
        "id": "0adYj-FmgWQz",
        "outputId": "6989b66f-ed11-4959-9011-61af47cbd805"
      },
      "execution_count": null,
      "outputs": [
        {
          "output_type": "execute_result",
          "data": {
            "text/plain": [
              "tensor([[0.8397],\n",
              "        [0.8534],\n",
              "        [0.8671],\n",
              "        [0.8808],\n",
              "        [0.8945],\n",
              "        [0.9082],\n",
              "        [0.9219],\n",
              "        [0.9356],\n",
              "        [0.9493],\n",
              "        [0.9630]])"
            ]
          },
          "metadata": {},
          "execution_count": 25
        }
      ]
    },
    {
      "cell_type": "code",
      "source": [
        "y_preds"
      ],
      "metadata": {
        "colab": {
          "base_uri": "https://localhost:8080/"
        },
        "id": "5AUdxY4JgjTX",
        "outputId": "3646af50-36a9-4343-809e-b1e3d991ebc8"
      },
      "execution_count": null,
      "outputs": [
        {
          "output_type": "execute_result",
          "data": {
            "text/plain": [
              "tensor([[0.3982],\n",
              "        [0.4049],\n",
              "        [0.4116],\n",
              "        [0.4184],\n",
              "        [0.4251],\n",
              "        [0.4318],\n",
              "        [0.4386],\n",
              "        [0.4453],\n",
              "        [0.4520],\n",
              "        [0.4588]])"
            ]
          },
          "metadata": {},
          "execution_count": 26
        }
      ]
    },
    {
      "cell_type": "code",
      "source": [
        "model_0.eval()\n",
        "with torch.inference_mode():\n",
        "  y_preds = model_0(X_test)\n",
        "\n",
        "y_preds"
      ],
      "metadata": {
        "colab": {
          "base_uri": "https://localhost:8080/"
        },
        "id": "HySQqFpDglZk",
        "outputId": "a14e88aa-babe-4e85-d98a-29c300724a77"
      },
      "execution_count": null,
      "outputs": [
        {
          "output_type": "execute_result",
          "data": {
            "text/plain": [
              "tensor([[0.8397],\n",
              "        [0.8534],\n",
              "        [0.8671],\n",
              "        [0.8808],\n",
              "        [0.8945],\n",
              "        [0.9082],\n",
              "        [0.9219],\n",
              "        [0.9356],\n",
              "        [0.9493],\n",
              "        [0.9630]])"
            ]
          },
          "metadata": {},
          "execution_count": 27
        }
      ]
    },
    {
      "cell_type": "code",
      "source": [
        "y_preds == loaded_model_preds"
      ],
      "metadata": {
        "id": "mjURhfwzgvpY",
        "outputId": "4cd32760-8465-4cdf-97d4-d1cdbd30ad59",
        "colab": {
          "base_uri": "https://localhost:8080/"
        }
      },
      "execution_count": null,
      "outputs": [
        {
          "output_type": "execute_result",
          "data": {
            "text/plain": [
              "tensor([[True],\n",
              "        [True],\n",
              "        [True],\n",
              "        [True],\n",
              "        [True],\n",
              "        [True],\n",
              "        [True],\n",
              "        [True],\n",
              "        [True],\n",
              "        [True]])"
            ]
          },
          "metadata": {},
          "execution_count": 28
        }
      ]
    },
    {
      "cell_type": "markdown",
      "source": [
        "## 6. Summary of a workflow\n",
        "\n"
      ],
      "metadata": {
        "id": "gwqh8qi7gynD"
      }
    },
    {
      "cell_type": "code",
      "source": [
        "#import PyTorch and matplotlib\n",
        "import torch\n",
        "from torch import nn\n",
        "import matplotlib.pyplot as plt\n",
        "\n",
        "#check PyTorch vers\n",
        "torch.__version__"
      ],
      "metadata": {
        "colab": {
          "base_uri": "https://localhost:8080/",
          "height": 35
        },
        "id": "LaZASActg0Ds",
        "outputId": "60ce3e90-cc04-4d7a-a107-0cf5c5d108a3"
      },
      "execution_count": null,
      "outputs": [
        {
          "output_type": "execute_result",
          "data": {
            "text/plain": [
              "'1.13.1+cu116'"
            ],
            "application/vnd.google.colaboratory.intrinsic+json": {
              "type": "string"
            }
          },
          "metadata": {},
          "execution_count": 29
        }
      ]
    },
    {
      "cell_type": "markdown",
      "source": [
        "Create device-agnostic code"
      ],
      "metadata": {
        "id": "0nVgcbS6hDPr"
      }
    },
    {
      "cell_type": "code",
      "source": [
        "device = \"cuda\" if torch.cuda.is_available() else \"cpu\"\n",
        "print(f\"Using device: {device}\")"
      ],
      "metadata": {
        "colab": {
          "base_uri": "https://localhost:8080/"
        },
        "id": "PGoqEcXVhGjK",
        "outputId": "403f32bc-8077-4f2d-ca13-22eff0acb7be"
      },
      "execution_count": null,
      "outputs": [
        {
          "output_type": "stream",
          "name": "stdout",
          "text": [
            "Using device: cuda\n"
          ]
        }
      ]
    },
    {
      "cell_type": "markdown",
      "source": [
        "### 6.1 Data"
      ],
      "metadata": {
        "id": "kbNWc5MDglMX"
      }
    },
    {
      "cell_type": "code",
      "source": [
        "#create data using linear regression formula\n",
        "weight = 0.7\n",
        "bias = 0.3\n",
        "\n",
        "#range values\n",
        "start = 0\n",
        "end = 1\n",
        "step = 0.02\n",
        "\n",
        "# X and y (feature and labels)\n",
        "X = torch.arange(start, end, step).unsqueeze(dim=1)\n",
        "y = weight * X + bias\n"
      ],
      "metadata": {
        "id": "qm6T9FULgorn"
      },
      "execution_count": null,
      "outputs": []
    },
    {
      "cell_type": "code",
      "source": [
        "# train-test split\n",
        "train_split = int(0.8* len(X))\n",
        "X_train, y_train = X[:train_split], y[:train_split]\n",
        "X_test, y_test = X[train_split:], y[train_split:]\n",
        "len(X_train), len(y_train), len(X_test), len(y_test)"
      ],
      "metadata": {
        "colab": {
          "base_uri": "https://localhost:8080/"
        },
        "id": "6L0QDjpjhj8n",
        "outputId": "5fb23a70-827a-4f97-cd98-d63c665803b6"
      },
      "execution_count": null,
      "outputs": [
        {
          "output_type": "execute_result",
          "data": {
            "text/plain": [
              "(40, 40, 10, 10)"
            ]
          },
          "metadata": {},
          "execution_count": 41
        }
      ]
    },
    {
      "cell_type": "code",
      "source": [
        "plot_predictions(X_train, y_train, X_test, y_test)"
      ],
      "metadata": {
        "colab": {
          "base_uri": "https://localhost:8080/",
          "height": 428
        },
        "id": "W42pHVF9iTRd",
        "outputId": "f9a34463-b16c-4a1f-8907-87bcba516088"
      },
      "execution_count": null,
      "outputs": [
        {
          "output_type": "display_data",
          "data": {
            "text/plain": [
              "<Figure size 720x504 with 1 Axes>"
            ],
            "image/png": "[encoded data removed]"
          },
          "metadata": {
            "needs_background": "light"
          }
        }
      ]
    },
    {
      "cell_type": "markdown",
      "source": [
        "###  6.2 Building a PyTorch Linear model"
      ],
      "metadata": {
        "id": "dGr2MgeqiaLt"
      }
    },
    {
      "cell_type": "code",
      "source": [
        "# Create a linear model by subclassing nn.Module\n",
        "\n",
        "class LinearRegressionModelV2(nn.Module):\n",
        "  \n",
        "  def __init__(self):\n",
        "    super().__init__()\n",
        "    #nn.Linear() creates the model params, also called linear transform, probing layer, fully connected layer etc\n",
        "    self.linear_layer = nn.Linear(in_features=1,  #nn.Linear applies the y = weight*X + bias formula, self.weight, self.bias params are initialised \n",
        "                                  out_features=1) #what goes in and comes out\n",
        "\n",
        "  def forward(self, x: torch.Tensor) -> torch.Tensor:\n",
        "    return self.linear_layer(x)\n",
        "\n",
        "#set manual seed\n",
        "torch.manual_seed(42)\n",
        "model_1 = LinearRegressionModelV2()\n",
        "model_1, model_1.state_dict()\n"
      ],
      "metadata": {
        "colab": {
          "base_uri": "https://localhost:8080/"
        },
        "id": "C4KJvL86s6fl",
        "outputId": "02addb2d-e270-4f4d-b6b8-7989a13c6a10"
      },
      "execution_count": null,
      "outputs": [
        {
          "output_type": "execute_result",
          "data": {
            "text/plain": [
              "(LinearRegressionModelV2(\n",
              "   (linear_layer): Linear(in_features=1, out_features=1, bias=True)\n",
              " ),\n",
              " OrderedDict([('linear_layer.weight', tensor([[0.7645]])),\n",
              "              ('linear_layer.bias', tensor([0.8300]))]))"
            ]
          },
          "metadata": {},
          "execution_count": 43
        }
      ]
    },
    {
      "cell_type": "code",
      "source": [
        "X_train[:5], y_train[:5]"
      ],
      "metadata": {
        "colab": {
          "base_uri": "https://localhost:8080/"
        },
        "id": "LAmjUSmStK6q",
        "outputId": "f1489d4b-40f8-4852-cd98-093a0cc19843"
      },
      "execution_count": null,
      "outputs": [
        {
          "output_type": "execute_result",
          "data": {
            "text/plain": [
              "(tensor([[0.0000],\n",
              "         [0.0200],\n",
              "         [0.0400],\n",
              "         [0.0600],\n",
              "         [0.0800]]), tensor([[0.3000],\n",
              "         [0.3140],\n",
              "         [0.3280],\n",
              "         [0.3420],\n",
              "         [0.3560]]))"
            ]
          },
          "metadata": {},
          "execution_count": 44
        }
      ]
    },
    {
      "cell_type": "code",
      "source": [
        "# check model device\n",
        "next(model_1.parameters()).device"
      ],
      "metadata": {
        "colab": {
          "base_uri": "https://localhost:8080/"
        },
        "id": "6-o1bBcQtAOc",
        "outputId": "b4dc1679-9c6d-414e-83da-91c45ce5197c"
      },
      "execution_count": null,
      "outputs": [
        {
          "output_type": "execute_result",
          "data": {
            "text/plain": [
              "device(type='cpu')"
            ]
          },
          "metadata": {},
          "execution_count": 45
        }
      ]
    },
    {
      "cell_type": "code",
      "source": [
        "#set model to use target device\n",
        "model_1.to(device)\n",
        "next(model_1.parameters()).device"
      ],
      "metadata": {
        "colab": {
          "base_uri": "https://localhost:8080/"
        },
        "id": "7IcN76KxtZqE",
        "outputId": "980b1011-15d7-4be7-ebc9-de9d76a85ab4"
      },
      "execution_count": null,
      "outputs": [
        {
          "output_type": "execute_result",
          "data": {
            "text/plain": [
              "device(type='cuda', index=0)"
            ]
          },
          "metadata": {},
          "execution_count": 46
        }
      ]
    },
    {
      "cell_type": "markdown",
      "source": [
        "### 6.3 Training\n",
        "\n",
        "For training:\n",
        "* Loss function\n",
        "* Optimizer\n",
        "* Training Loop\n",
        "* Testing Loop\n",
        "\n",
        "\n"
      ],
      "metadata": {
        "id": "Nai3xFkOs_XF"
      }
    },
    {
      "cell_type": "code",
      "source": [
        "# setup loss fn\n",
        "loss_fn = nn.L1Loss() #MAE\n",
        "\n",
        "# setup optimizer\n",
        "optimizer = torch.optim.SGD(params=model_1.parameters(),\n",
        "                            lr=0.01)  #stochastic gradient descent"
      ],
      "metadata": {
        "id": "ExmOJ1jot_DV"
      },
      "execution_count": null,
      "outputs": []
    },
    {
      "cell_type": "code",
      "source": [
        "#training loop\n",
        "torch.manual_seed(42)\n",
        "\n",
        "epochs = 200\n",
        "\n",
        "# set data to target device\n",
        "\n",
        "X_train = X_train.to(device)\n",
        "y_train = y_train.to(device)\n",
        "X_test = X_test.to(device)\n",
        "y_test = y_test.to(device)\n",
        "\n",
        "for epoch in range(epochs):\n",
        "  model_1.train()\n",
        "\n",
        "  #1. forward pass\n",
        "  y_pred = model_1(X_train) #data is in cpu, remember to change it \n",
        "\n",
        "  #2. calc loss\n",
        "  loss = loss_fn(y_pred, y_train)\n",
        "\n",
        "  #3. Optimizer zero grad \n",
        "  optimizer.zero_grad()\n",
        "\n",
        "  #4. backpropagation\n",
        "  loss.backward()\n",
        "\n",
        "  #5. Optimizer step\n",
        "  optimizer.step()\n",
        "\n",
        "  ## Testing\n",
        "  model_1.eval()\n",
        "  with torch.inference_mode():\n",
        "    test_pred = model_1(X_test)\n",
        "\n",
        "    test_loss = loss_fn(test_pred, y_test)\n",
        "\n",
        "  if epoch % 10 == 0:\n",
        "    print(f\"Epoch: {epoch} | Loss: {loss} | Test Loss: {test_loss}\")\n",
        "\n"
      ],
      "metadata": {
        "colab": {
          "base_uri": "https://localhost:8080/"
        },
        "id": "PSiWW_CwuYNz",
        "outputId": "888d653e-ac4d-44fc-855f-7dbb1587d02a"
      },
      "execution_count": null,
      "outputs": [
        {
          "output_type": "stream",
          "name": "stdout",
          "text": [
            "Epoch: 0 | Loss: 0.5551779866218567 | Test Loss: 0.5739762187004089\n",
            "Epoch: 10 | Loss: 0.439968079328537 | Test Loss: 0.4392664134502411\n",
            "Epoch: 20 | Loss: 0.3247582018375397 | Test Loss: 0.30455657839775085\n",
            "Epoch: 30 | Loss: 0.20954833924770355 | Test Loss: 0.16984669864177704\n",
            "Epoch: 40 | Loss: 0.09433845430612564 | Test Loss: 0.03513690456748009\n",
            "Epoch: 50 | Loss: 0.023886388167738914 | Test Loss: 0.04784907028079033\n",
            "Epoch: 60 | Loss: 0.019956795498728752 | Test Loss: 0.045803118497133255\n",
            "Epoch: 70 | Loss: 0.016517987474799156 | Test Loss: 0.037530567497015\n",
            "Epoch: 80 | Loss: 0.013089174404740334 | Test Loss: 0.02994490973651409\n",
            "Epoch: 90 | Loss: 0.009653178043663502 | Test Loss: 0.02167237363755703\n",
            "Epoch: 100 | Loss: 0.006215683650225401 | Test Loss: 0.014086711220443249\n",
            "Epoch: 110 | Loss: 0.00278724217787385 | Test Loss: 0.005814164876937866\n",
            "Epoch: 120 | Loss: 0.0012645035749301314 | Test Loss: 0.013801801018416882\n",
            "Epoch: 130 | Loss: 0.0012645035749301314 | Test Loss: 0.013801801018416882\n",
            "Epoch: 140 | Loss: 0.0012645035749301314 | Test Loss: 0.013801801018416882\n",
            "Epoch: 150 | Loss: 0.0012645035749301314 | Test Loss: 0.013801801018416882\n",
            "Epoch: 160 | Loss: 0.0012645035749301314 | Test Loss: 0.013801801018416882\n",
            "Epoch: 170 | Loss: 0.0012645035749301314 | Test Loss: 0.013801801018416882\n",
            "Epoch: 180 | Loss: 0.0012645035749301314 | Test Loss: 0.013801801018416882\n",
            "Epoch: 190 | Loss: 0.0012645035749301314 | Test Loss: 0.013801801018416882\n"
          ]
        }
      ]
    },
    {
      "cell_type": "code",
      "source": [
        "model_1.state_dict()"
      ],
      "metadata": {
        "colab": {
          "base_uri": "https://localhost:8080/"
        },
        "id": "x_f_ULqgvQgH",
        "outputId": "68f1d0df-eb6b-4dbd-96ab-da3e9679319d"
      },
      "execution_count": null,
      "outputs": [
        {
          "output_type": "execute_result",
          "data": {
            "text/plain": [
              "OrderedDict([('linear_layer.weight', tensor([[0.6968]], device='cuda:0')),\n",
              "             ('linear_layer.bias', tensor([0.3025], device='cuda:0'))])"
            ]
          },
          "metadata": {},
          "execution_count": 51
        }
      ]
    },
    {
      "cell_type": "markdown",
      "source": [
        "### 6.4 Prediction and evaluation"
      ],
      "metadata": {
        "id": "tIKj-Icevu-C"
      }
    },
    {
      "cell_type": "code",
      "source": [
        "#turn on eval mode\n",
        "model_1.eval()\n",
        "\n",
        "#predictions\n",
        "with torch.inference_mode():\n",
        "  y_preds = model_1(X_test)\n",
        "\n",
        "y_preds"
      ],
      "metadata": {
        "colab": {
          "base_uri": "https://localhost:8080/"
        },
        "id": "gLjBH4OCwVQB",
        "outputId": "8046dff2-dd05-4093-e431-fa1fe51db381"
      },
      "execution_count": null,
      "outputs": [
        {
          "output_type": "execute_result",
          "data": {
            "text/plain": [
              "tensor([[0.8600],\n",
              "        [0.8739],\n",
              "        [0.8878],\n",
              "        [0.9018],\n",
              "        [0.9157],\n",
              "        [0.9296],\n",
              "        [0.9436],\n",
              "        [0.9575],\n",
              "        [0.9714],\n",
              "        [0.9854]], device='cuda:0')"
            ]
          },
          "metadata": {},
          "execution_count": 52
        }
      ]
    },
    {
      "cell_type": "code",
      "source": [
        "# visualize\n",
        "plot_predictions(predictions=y_preds.cpu())"
      ],
      "metadata": {
        "colab": {
          "base_uri": "https://localhost:8080/",
          "height": 428
        },
        "id": "G189ORfaweee",
        "outputId": "977e5598-abc3-4c9a-8669-cc04724f2df2"
      },
      "execution_count": null,
      "outputs": [
        {
          "output_type": "display_data",
          "data": {
            "text/plain": [
              "<Figure size 720x504 with 1 Axes>"
            ],
            "image/png": "[encoded data removed]"
          },
          "metadata": {
            "needs_background": "light"
          }
        }
      ]
    },
    {
      "cell_type": "markdown",
      "source": [
        "### Saving and loading a trained model"
      ],
      "metadata": {
        "id": "v0Ar7fKvwotX"
      }
    },
    {
      "cell_type": "code",
      "source": [
        "from pathlib import Path\n",
        "# 1. Creat models dir\n",
        "MODEL_PATH = Path(\"models\")\n",
        "MODEL_PATH.mkdir(parents=True, exist_ok=True)\n",
        "\n",
        "# 2. Create models save path\n",
        "MODEL_NAME = \"01_pytorch_workflow_model_1.pth\"\n",
        "MODEL_SAVE_PATH = MODEL_PATH / MODEL_NAME\n",
        "\n",
        "#3. save the model state dict\n",
        "print(f\"Saving model to : {MODEL_SAVE_PATH}\")\n",
        "torch.save(obj=model_1.state_dict(),\n",
        "           f=MODEL_SAVE_PATH)\n"
      ],
      "metadata": {
        "colab": {
          "base_uri": "https://localhost:8080/"
        },
        "id": "1bEu6TSz3mC6",
        "outputId": "76ae8c5f-8b8c-40e5-e348-93eb66011ded"
      },
      "execution_count": null,
      "outputs": [
        {
          "output_type": "stream",
          "name": "stdout",
          "text": [
            "Saving model to : models/01_pytorch_workflow_model_1.pth\n"
          ]
        }
      ]
    },
    {
      "cell_type": "code",
      "source": [
        "# Load a pytorch model\n",
        "loaded_model_1 = LinearRegressionModelV2()\n",
        "\n",
        "\n",
        "#load the saved model's state_dict\n",
        "loaded_model_1.load_state_dict(torch.load(MODEL_SAVE_PATH))\n",
        "\n",
        "# put the loaded model to device\n",
        "loaded_model_1.to(device)\n",
        "\n"
      ],
      "metadata": {
        "colab": {
          "base_uri": "https://localhost:8080/"
        },
        "id": "V7DrH_RE4G88",
        "outputId": "e1955715-29b8-456b-db4b-fd65de35bcda"
      },
      "execution_count": null,
      "outputs": [
        {
          "output_type": "execute_result",
          "data": {
            "text/plain": [
              "LinearRegressionModelV2(\n",
              "  (linear_layer): Linear(in_features=1, out_features=1, bias=True)\n",
              ")"
            ]
          },
          "metadata": {},
          "execution_count": 58
        }
      ]
    },
    {
      "cell_type": "code",
      "source": [
        "loaded_model_1.state_dict()"
      ],
      "metadata": {
        "colab": {
          "base_uri": "https://localhost:8080/"
        },
        "id": "Xws0ve854nLf",
        "outputId": "957f4c33-1738-41d3-8fc7-7b700a32d006"
      },
      "execution_count": null,
      "outputs": [
        {
          "output_type": "execute_result",
          "data": {
            "text/plain": [
              "OrderedDict([('linear_layer.weight', tensor([[0.6968]], device='cuda:0')),\n",
              "             ('linear_layer.bias', tensor([0.3025], device='cuda:0'))])"
            ]
          },
          "metadata": {},
          "execution_count": 59
        }
      ]
    },
    {
      "cell_type": "code",
      "source": [
        "loaded_model_1.eval()\n",
        "with torch.inference_mode():\n",
        "  loaded_model_1_preds = loaded_model_1(X_test)\n",
        "\n",
        "y_preds == loaded_model_1_preds"
      ],
      "metadata": {
        "colab": {
          "base_uri": "https://localhost:8080/"
        },
        "id": "RaTKEwTD4psC",
        "outputId": "b9055bf1-3d52-4703-fa06-b465f33e86ce"
      },
      "execution_count": null,
      "outputs": [
        {
          "output_type": "execute_result",
          "data": {
            "text/plain": [
              "tensor([[True],\n",
              "        [True],\n",
              "        [True],\n",
              "        [True],\n",
              "        [True],\n",
              "        [True],\n",
              "        [True],\n",
              "        [True],\n",
              "        [True],\n",
              "        [True]], device='cuda:0')"
            ]
          },
          "metadata": {},
          "execution_count": 60
        }
      ]
    },
    {
      "cell_type": "code",
      "source": [],
      "metadata": {
        "id": "KQ2wdMlX40Rh"
      },
      "execution_count": null,
      "outputs": []
    }
  ]
}